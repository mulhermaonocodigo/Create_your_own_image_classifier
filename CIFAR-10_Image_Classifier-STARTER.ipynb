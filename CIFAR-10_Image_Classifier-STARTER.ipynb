{
 "cells": [
  {
   "cell_type": "markdown",
   "metadata": {},
   "source": [
    "# Introduction\n",
    "\n",
    "In this project, you will build a neural network of your own design to evaluate the CIFAR-10 dataset.\n",
    "\n",
    "To meet the requirements for this project, you will need to achieve an accuracy greater than 45%. \n",
    "If you want to beat Detectocorp's algorithm, you'll need to achieve an accuracy greater than 70%. \n",
    "(Beating Detectocorp's algorithm is not a requirement for passing this project, but you're encouraged to try!)\n",
    "\n",
    "Some of the benchmark results on CIFAR-10 include:\n",
    "\n",
    "78.9% Accuracy | [Deep Belief Networks; Krizhevsky, 2010](https://www.cs.toronto.edu/~kriz/conv-cifar10-aug2010.pdf)\n",
    "\n",
    "90.6% Accuracy | [Maxout Networks; Goodfellow et al., 2013](https://arxiv.org/pdf/1302.4389.pdf)\n",
    "\n",
    "96.0% Accuracy | [Wide Residual Networks; Zagoruyko et al., 2016](https://arxiv.org/pdf/1605.07146.pdf)\n",
    "\n",
    "99.0% Accuracy | [GPipe; Huang et al., 2018](https://arxiv.org/pdf/1811.06965.pdf)\n",
    "\n",
    "98.5% Accuracy | [Rethinking Recurrent Neural Networks and other Improvements for ImageClassification; Nguyen et al., 2020](https://arxiv.org/pdf/2007.15161.pdf)\n",
    "\n",
    "Research with this dataset is ongoing. Notably, many of these networks are quite large and quite expensive to train. \n",
    "\n",
    "## Imports"
   ]
  },
  {
   "cell_type": "code",
   "execution_count": 1,
   "metadata": {},
   "outputs": [
    {
     "name": "stdout",
     "output_type": "stream",
     "text": [
      "The history saving thread hit an unexpected error (OperationalError('disk I/O error')).History will not be written to the database.\n"
     ]
    },
    {
     "name": "stderr",
     "output_type": "stream",
     "text": [
      "/dccstor/6195/users/mmacedo/pred_energy_py39_env/lib/python3.9/site-packages/tqdm/auto.py:21: TqdmWarning: IProgress not found. Please update jupyter and ipywidgets. See https://ipywidgets.readthedocs.io/en/stable/user_install.html\n",
      "  from .autonotebook import tqdm as notebook_tqdm\n"
     ]
    }
   ],
   "source": [
    "## This cell contains the essential imports you will need – DO NOT CHANGE THE CONTENTS! ##\n",
    "import torch\n",
    "import torch.nn as nn\n",
    "import torch.nn.functional as F\n",
    "import torch.optim as optim\n",
    "import torchvision\n",
    "import torchvision.transforms as transforms\n",
    "import matplotlib.pyplot as plt\n",
    "import numpy as np"
   ]
  },
  {
   "cell_type": "code",
   "execution_count": 2,
   "metadata": {},
   "outputs": [
    {
     "name": "stdout",
     "output_type": "stream",
     "text": [
      "CUDA is available!  Training on GPU ...\n"
     ]
    }
   ],
   "source": [
    "gpu_on = torch.cuda.is_available()\n",
    "\n",
    "if not gpu_on:\n",
    "    print('CUDA is not available.  Training on CPU ...')\n",
    "else:\n",
    "    print('CUDA is available!  Training on GPU ...')\n"
   ]
  },
  {
   "cell_type": "markdown",
   "metadata": {},
   "source": [
    "## Load the Dataset\n",
    "\n",
    "Specify your transforms as a list first.\n",
    "The transforms module is already loaded as `transforms`.\n",
    "\n",
    "CIFAR-10 is fortunately included in the torchvision module.\n",
    "Then, you can create your dataset using the `CIFAR10` object from `torchvision.datasets` ([the documentation is available here](https://pytorch.org/vision/stable/generated/torchvision.datasets.CIFAR10.html)).\n",
    "Make sure to specify `download=True`! \n",
    "\n",
    "Once your dataset is created, you'll also need to define a `DataLoader` from the `torch.utils.data` module for both the train and the test set."
   ]
  },
  {
   "cell_type": "code",
   "execution_count": 4,
   "metadata": {},
   "outputs": [
    {
     "name": "stderr",
     "output_type": "stream",
     "text": [
      "/dccstor/6195/users/mmacedo/pred_energy_py39_env/lib/python3.9/site-packages/torch/utils/data/dataloader.py:554: UserWarning: This DataLoader will create 2 worker processes in total. Our suggested max number of worker in current system is 1, which is smaller than what this DataLoader is going to create. Please be aware that excessive worker creation might get DataLoader running slow or even freeze, lower the worker number to avoid potential slowness/freeze if necessary.\n",
      "  warnings.warn(_create_warning_msg(\n"
     ]
    }
   ],
   "source": [
    "batch_size=32\n",
    "# Define transforms\n",
    "transform = transforms.Compose(\n",
    "    [\n",
    "    transforms.RandomHorizontalFlip(), # randomly flip and rotate\n",
    "    transforms.RandomRotation(10),\n",
    "    transforms.ToTensor(),\n",
    "     transforms.Normalize((0.5, 0.5, 0.5), (0.5, 0.5, 0.5)),\n",
    "     #transforms.CenterCrop(3),\n",
    "     #transforms.ColorJitter(contrast=0.5),\n",
    "     #transforms.RandomPerspective(distortion_scale=0.6, p=1.0),\n",
    "     #transforms.RandomRotation(degrees=(0, 180)),\n",
    "     #transforms.GaussianBlur(kernel_size=(5, 9), sigma=(0.1, 5)),\n",
    "     #transforms.RandomEqualize(),\n",
    "    ]\n",
    "     \n",
    "     )\n",
    "transform_test = transforms.Compose(\n",
    "    [transforms.ToTensor(),\n",
    "     transforms.Normalize((0.5, 0.5, 0.5), (0.5, 0.5, 0.5))\n",
    "    ]\n",
    "     \n",
    "     )\n",
    "\n",
    "\n",
    "# Create training set and define training dataloader\n",
    "\n",
    "\n",
    "trainset = torchvision.datasets.CIFAR10(root='../data', train=True,\n",
    "                                        download=False, transform=transform)\n",
    "trainloader = torch.utils.data.DataLoader(trainset, batch_size=batch_size,\n",
    "                                          shuffle=True, num_workers=2)\n",
    "\n",
    "# Create test set and define test dataloader\n",
    "testset = torchvision.datasets.CIFAR10(root='../data', train=False,\n",
    "                                       download=False, transform=transform_test)\n",
    "testloader = torch.utils.data.DataLoader(testset, batch_size=batch_size,\n",
    "                                         shuffle=False, num_workers=2)\n",
    "\n",
    "\n",
    "# The 10 classes in the dataset\n",
    "classes = ('plane', 'car', 'bird', 'cat', 'deer', 'dog', 'frog', 'horse', 'ship', 'truck')"
   ]
  },
  {
   "cell_type": "markdown",
   "metadata": {},
   "source": [
    "## Explore the Dataset\n",
    "Using matplotlib, numpy, and torch, explore the dimensions of your data.\n",
    "\n",
    "You can view images using the `show5` function defined below – it takes a data loader as an argument.\n",
    "Remember that normalized images will look really weird to you! You may want to try changing your transforms to view images.\n",
    "Typically using no transforms other than `toTensor()` works well for viewing – but not as well for training your network.\n",
    "If `show5` doesn't work, go back and check your code for creating your data loaders and your training/test sets."
   ]
  },
  {
   "cell_type": "code",
   "execution_count": 5,
   "metadata": {},
   "outputs": [],
   "source": [
    "def show5(img_loader,title):\n",
    "    dataiter = iter(img_loader)\n",
    "    \n",
    "    batch = next(dataiter)\n",
    "    labels = batch[1]\n",
    "    images = batch[0].numpy()\n",
    "    fig = plt.figure(figsize=(25, 4))\n",
    "    fig.suptitle(title)\n",
    "    #fig.set_title(title)\n",
    "    for i in range(5):\n",
    "    \n",
    "        image = images[i]\n",
    "        img = image / 2 + 0.5  # unnormalize\n",
    "        ax = fig.add_subplot(2, 5, i+1, xticks=[], yticks=[])\n",
    "        plt.imshow(np.transpose(img, (1, 2, 0)))  \n",
    "        #plt.show()\n",
    "        ax.set_title(classes[labels[i]])\n",
    "        \n",
    "def utils_show_images(img):\n",
    "    img = img / 2 + 0.5  # unnormalize\n",
    "    plt.imshow(np.transpose(img, (1, 2, 0)))  # convert from Tensor image"
   ]
  },
  {
   "cell_type": "code",
   "execution_count": 6,
   "metadata": {},
   "outputs": [
    {
     "data": {
      "image/png": "[encoded data removed]",
      "text/plain": [
       "<Figure size 2500x400 with 5 Axes>"
      ]
     },
     "metadata": {},
     "output_type": "display_data"
    },
    {
     "data": {
      "image/png": "[encoded data removed]",
      "text/plain": [
       "<Figure size 2500x400 with 5 Axes>"
      ]
     },
     "metadata": {},
     "output_type": "display_data"
    }
   ],
   "source": [
    "# Explore data\n",
    "#training data\n",
    "\n",
    "show5(trainloader, \"TRAIN\")\n",
    "show5(testloader, \"TEST\")"
   ]
  },
  {
   "cell_type": "markdown",
   "metadata": {},
   "source": [
    "## Build your Neural Network\n",
    "Using the layers in `torch.nn` (which has been imported as `nn`) and the `torch.nn.functional` module (imported as `F`), construct a neural network based on the parameters of the dataset. \n",
    "Feel free to construct a model of any architecture – feedforward, convolutional, or even something more advanced!"
   ]
  },
  {
   "cell_type": "code",
   "execution_count": 59,
   "metadata": {},
   "outputs": [],
   "source": [
    "# CNN architecture\n",
    "class MaysasNet(nn.Module):\n",
    "    def __init__(self):\n",
    "        super(MaysasNet, self).__init__()\n",
    "        # convolutional layer (32x32x3 image tensor)\n",
    "        \n",
    "        self.conv1 = nn.Conv2d(3, 16, 3, padding=1)\n",
    "        \n",
    "        self.conv2 = nn.Conv2d(16, 32, 3, padding=1)\n",
    "        \n",
    "        self.conv3 = nn.Conv2d(32, 64, 3, padding=1)\n",
    "        \n",
    "        \n",
    "        \n",
    "        # max pooling layer\n",
    "        self.pool = nn.MaxPool2d(2, 2)\n",
    "        \n",
    "        \n",
    "        self.fc1 = nn.Linear(64 * 4 * 4, 512)\n",
    "        \n",
    "        self.fc2 = nn.Linear(512, 10)\n",
    "        # dropout layer (p=0.4)\n",
    "        self.dropout = nn.Dropout(0.4)\n",
    "    \n",
    "        self.batchnorm1 = nn.BatchNorm2d(16)\n",
    "        self.batchnorm2 = nn.BatchNorm2d(32)\n",
    "        self.batchnorm3 = nn.BatchNorm2d(64)\n",
    "       \n",
    "    def forward(self, x):\n",
    "        # add sequence of convolutional and max pooling layers\n",
    "\n",
    "        x = self.batchnorm1(self.pool(F.relu(self.conv1(x))))\n",
    "        x = self.batchnorm2(self.pool(F.relu(self.conv2(x))))\n",
    "        x = self.batchnorm3(self.pool(F.relu(self.conv3(x))))\n",
    "      \n",
    "        \n",
    "        # flatten image input\n",
    "        x = x.view(-1, 64 * 4 * 4)\n",
    "        # add dropout layer\n",
    "        x = self.dropout(x)\n",
    "        # relu activation function\n",
    "        x = F.relu(self.fc1(x))\n",
    "        # add dropout layer\n",
    "        x = self.dropout(x)\n",
    "        # relu activation function\n",
    "        x = self.fc2(x)\n",
    "        return x\n",
    "\n",
    "\n",
    "\n",
    "# create a complete CNN\n",
    "model = MaysasNet()\n",
    "if gpu_on:\n",
    "    model.cuda()"
   ]
  },
  {
   "cell_type": "code",
   "execution_count": 60,
   "metadata": {},
   "outputs": [
    {
     "name": "stdout",
     "output_type": "stream",
     "text": [
      "MaysasNet(\n",
      "  (conv1): Conv2d(3, 16, kernel_size=(3, 3), stride=(1, 1), padding=(1, 1))\n",
      "  (conv2): Conv2d(16, 32, kernel_size=(3, 3), stride=(1, 1), padding=(1, 1))\n",
      "  (conv3): Conv2d(32, 64, kernel_size=(3, 3), stride=(1, 1), padding=(1, 1))\n",
      "  (pool): MaxPool2d(kernel_size=2, stride=2, padding=0, dilation=1, ceil_mode=False)\n",
      "  (fc1): Linear(in_features=1024, out_features=512, bias=True)\n",
      "  (fc2): Linear(in_features=512, out_features=10, bias=True)\n",
      "  (dropout): Dropout(p=0.4, inplace=False)\n",
      "  (batchnorm1): BatchNorm2d(16, eps=1e-05, momentum=0.1, affine=True, track_running_stats=True)\n",
      "  (batchnorm2): BatchNorm2d(32, eps=1e-05, momentum=0.1, affine=True, track_running_stats=True)\n",
      "  (batchnorm3): BatchNorm2d(64, eps=1e-05, momentum=0.1, affine=True, track_running_stats=True)\n",
      ")\n"
     ]
    }
   ],
   "source": [
    "print(model)"
   ]
  },
  {
   "cell_type": "markdown",
   "metadata": {},
   "source": [
    "Specify a loss function and an optimizer, and instantiate the model.\n",
    "\n",
    "If you use a less common loss function, please note why you chose that loss function in a comment."
   ]
  },
  {
   "cell_type": "code",
   "execution_count": 61,
   "metadata": {},
   "outputs": [],
   "source": [
    "# specify loss function (categorical cross-entropy)\n",
    "criterion = nn.CrossEntropyLoss()\n",
    "\n",
    "# specify optimizer\n",
    "\n",
    "optimizer = optim.Adam(model.parameters(), lr=0.001)"
   ]
  },
  {
   "cell_type": "markdown",
   "metadata": {},
   "source": [
    "## Running your Neural Network\n",
    "Use whatever method you like to train your neural network, and ensure you record the average loss at each epoch. \n",
    "Don't forget to use `torch.device()` and the `.to()` method for both your model and your data if you are using GPU!\n",
    "\n",
    "If you want to print your loss during each epoch, you can use the `enumerate` function and print the loss after a set number of batches. 250 batches works well for most people!"
   ]
  },
  {
   "cell_type": "code",
   "execution_count": 62,
   "metadata": {},
   "outputs": [
    {
     "name": "stdout",
     "output_type": "stream",
     "text": [
      "Epoch: 1 \tTraining Loss: 1.374452 \t\n",
      " Saving model ...\n",
      "Epoch: 2 \tTraining Loss: 1.111204 \t\n",
      " Saving model ...\n",
      "Epoch: 3 \tTraining Loss: 1.013401 \t\n",
      " Saving model ...\n",
      "Epoch: 4 \tTraining Loss: 0.948879 \t\n",
      " Saving model ...\n",
      "Epoch: 5 \tTraining Loss: 0.902740 \t\n",
      " Saving model ...\n",
      "Epoch: 6 \tTraining Loss: 0.867216 \t\n",
      " Saving model ...\n",
      "Epoch: 7 \tTraining Loss: 0.841052 \t\n",
      " Saving model ...\n",
      "Epoch: 8 \tTraining Loss: 0.805978 \t\n",
      " Saving model ...\n",
      "Epoch: 9 \tTraining Loss: 0.786072 \t\n",
      " Saving model ...\n",
      "Epoch: 10 \tTraining Loss: 0.767405 \t\n",
      " Saving model ...\n",
      "Epoch: 11 \tTraining Loss: 0.746979 \t\n",
      " Saving model ...\n",
      "Epoch: 12 \tTraining Loss: 0.726988 \t\n",
      " Saving model ...\n",
      "Epoch: 13 \tTraining Loss: 0.718582 \t\n",
      " Saving model ...\n",
      "Epoch: 14 \tTraining Loss: 0.711648 \t\n",
      " Saving model ...\n",
      "Epoch: 15 \tTraining Loss: 0.694788 \t\n",
      " Saving model ...\n",
      "Epoch: 16 \tTraining Loss: 0.683474 \t\n",
      " Saving model ...\n",
      "Epoch: 17 \tTraining Loss: 0.683730 \t\n",
      "Epoch: 18 \tTraining Loss: 0.667386 \t\n",
      " Saving model ...\n",
      "Epoch: 19 \tTraining Loss: 0.666996 \t\n",
      " Saving model ...\n",
      "Epoch: 20 \tTraining Loss: 0.656036 \t\n",
      " Saving model ...\n",
      "Epoch: 21 \tTraining Loss: 0.646597 \t\n",
      " Saving model ...\n",
      "Epoch: 22 \tTraining Loss: 0.639540 \t\n",
      " Saving model ...\n",
      "Epoch: 23 \tTraining Loss: 0.634961 \t\n",
      " Saving model ...\n",
      "Epoch: 24 \tTraining Loss: 0.629217 \t\n",
      " Saving model ...\n",
      "Epoch: 25 \tTraining Loss: 0.622936 \t\n",
      " Saving model ...\n",
      "Epoch: 26 \tTraining Loss: 0.620825 \t\n",
      " Saving model ...\n",
      "Epoch: 27 \tTraining Loss: 0.614455 \t\n",
      " Saving model ...\n",
      "Epoch: 28 \tTraining Loss: 0.611357 \t\n",
      " Saving model ...\n",
      "Epoch: 29 \tTraining Loss: 0.603595 \t\n",
      " Saving model ...\n",
      "Epoch: 30 \tTraining Loss: 0.595770 \t\n",
      " Saving model ...\n",
      "Epoch: 31 \tTraining Loss: 0.591147 \t\n",
      " Saving model ...\n",
      "Epoch: 32 \tTraining Loss: 0.593994 \t\n",
      "Epoch: 33 \tTraining Loss: 0.589099 \t\n",
      " Saving model ...\n",
      "Epoch: 34 \tTraining Loss: 0.586788 \t\n",
      " Saving model ...\n",
      "Epoch: 35 \tTraining Loss: 0.581066 \t\n",
      " Saving model ...\n",
      "Epoch: 36 \tTraining Loss: 0.582849 \t\n",
      "Epoch: 37 \tTraining Loss: 0.573227 \t\n",
      " Saving model ...\n",
      "Epoch: 38 \tTraining Loss: 0.575091 \t\n",
      "Epoch: 39 \tTraining Loss: 0.572761 \t\n",
      " Saving model ...\n",
      "Epoch: 40 \tTraining Loss: 0.564258 \t\n",
      " Saving model ...\n",
      "Epoch: 41 \tTraining Loss: 0.567233 \t\n",
      "Epoch: 42 \tTraining Loss: 0.556667 \t\n",
      " Saving model ...\n",
      "Epoch: 43 \tTraining Loss: 0.557279 \t\n",
      "Epoch: 44 \tTraining Loss: 0.554849 \t\n",
      " Saving model ...\n",
      "Epoch: 45 \tTraining Loss: 0.549550 \t\n",
      " Saving model ...\n",
      "Epoch: 46 \tTraining Loss: 0.550137 \t\n",
      "Epoch: 47 \tTraining Loss: 0.550607 \t\n",
      "Epoch: 48 \tTraining Loss: 0.550718 \t\n",
      "Epoch: 49 \tTraining Loss: 0.544273 \t\n",
      " Saving model ...\n",
      "Epoch: 50 \tTraining Loss: 0.538294 \t\n",
      " Saving model ...\n",
      "Epoch: 51 \tTraining Loss: 0.544821 \t\n",
      "Epoch: 52 \tTraining Loss: 0.541025 \t\n",
      "Epoch: 53 \tTraining Loss: 0.536774 \t\n",
      " Saving model ...\n",
      "Epoch: 54 \tTraining Loss: 0.532140 \t\n",
      " Saving model ...\n",
      "Epoch: 55 \tTraining Loss: 0.533812 \t\n",
      "Epoch: 56 \tTraining Loss: 0.531020 \t\n",
      " Saving model ...\n",
      "Epoch: 57 \tTraining Loss: 0.528929 \t\n",
      " Saving model ...\n",
      "Epoch: 58 \tTraining Loss: 0.532879 \t\n",
      "Epoch: 59 \tTraining Loss: 0.526127 \t\n",
      " Saving model ...\n",
      "Epoch: 60 \tTraining Loss: 0.525082 \t\n",
      " Saving model ...\n",
      "Epoch: 61 \tTraining Loss: 0.519053 \t\n",
      " Saving model ...\n",
      "Epoch: 62 \tTraining Loss: 0.524564 \t\n",
      "Epoch: 63 \tTraining Loss: 0.522711 \t\n",
      "Epoch: 64 \tTraining Loss: 0.519357 \t\n",
      "Epoch: 65 \tTraining Loss: 0.520112 \t\n",
      "Epoch: 66 \tTraining Loss: 0.506448 \t\n",
      " Saving model ...\n",
      "Epoch: 67 \tTraining Loss: 0.514175 \t\n",
      "Epoch: 68 \tTraining Loss: 0.510538 \t\n",
      "Epoch: 69 \tTraining Loss: 0.509380 \t\n",
      "Epoch: 70 \tTraining Loss: 0.509579 \t\n",
      "Epoch: 71 \tTraining Loss: 0.508356 \t\n",
      "Epoch: 72 \tTraining Loss: 0.507071 \t\n",
      "Epoch: 73 \tTraining Loss: 0.501914 \t\n",
      " Saving model ...\n",
      "Epoch: 74 \tTraining Loss: 0.496522 \t\n",
      " Saving model ...\n",
      "Epoch: 75 \tTraining Loss: 0.506601 \t\n",
      "Epoch: 76 \tTraining Loss: 0.497775 \t\n",
      "Epoch: 77 \tTraining Loss: 0.502258 \t\n",
      "Epoch: 78 \tTraining Loss: 0.494044 \t\n",
      " Saving model ...\n",
      "Epoch: 79 \tTraining Loss: 0.504203 \t\n",
      "Epoch: 80 \tTraining Loss: 0.494924 \t\n",
      "Epoch: 81 \tTraining Loss: 0.494875 \t\n",
      "Epoch: 82 \tTraining Loss: 0.498239 \t\n",
      "Epoch: 83 \tTraining Loss: 0.491836 \t\n",
      " Saving model ...\n",
      "Epoch: 84 \tTraining Loss: 0.489105 \t\n",
      " Saving model ...\n",
      "Epoch: 85 \tTraining Loss: 0.494966 \t\n",
      "Epoch: 86 \tTraining Loss: 0.488039 \t\n",
      " Saving model ...\n",
      "Epoch: 87 \tTraining Loss: 0.493535 \t\n",
      "Epoch: 88 \tTraining Loss: 0.487606 \t\n",
      " Saving model ...\n",
      "Epoch: 89 \tTraining Loss: 0.488738 \t\n",
      "Epoch: 90 \tTraining Loss: 0.486234 \t\n",
      " Saving model ...\n",
      "Epoch: 91 \tTraining Loss: 0.485261 \t\n",
      " Saving model ...\n",
      "Epoch: 92 \tTraining Loss: 0.485462 \t\n",
      "Epoch: 93 \tTraining Loss: 0.484533 \t\n",
      " Saving model ...\n",
      "Epoch: 94 \tTraining Loss: 0.486555 \t\n",
      "Epoch: 95 \tTraining Loss: 0.485750 \t\n",
      "Epoch: 96 \tTraining Loss: 0.484867 \t\n",
      "Epoch: 97 \tTraining Loss: 0.482594 \t\n",
      " Saving model ...\n",
      "Epoch: 98 \tTraining Loss: 0.479570 \t\n",
      " Saving model ...\n",
      "Epoch: 99 \tTraining Loss: 0.480373 \t\n",
      "Epoch: 100 \tTraining Loss: 0.479907 \t\n",
      "Epoch: 101 \tTraining Loss: 0.478170 \t\n",
      " Saving model ...\n",
      "Epoch: 102 \tTraining Loss: 0.483506 \t\n",
      "Epoch: 103 \tTraining Loss: 0.473385 \t\n",
      " Saving model ...\n",
      "Epoch: 104 \tTraining Loss: 0.472704 \t\n",
      " Saving model ...\n",
      "Epoch: 105 \tTraining Loss: 0.475626 \t\n",
      "Epoch: 106 \tTraining Loss: 0.476386 \t\n",
      "Epoch: 107 \tTraining Loss: 0.473820 \t\n",
      "Epoch: 108 \tTraining Loss: 0.475709 \t\n",
      "Epoch: 109 \tTraining Loss: 0.473842 \t\n",
      "Epoch: 110 \tTraining Loss: 0.468934 \t\n",
      " Saving model ...\n",
      "Epoch: 111 \tTraining Loss: 0.471114 \t\n",
      "Epoch: 112 \tTraining Loss: 0.464881 \t\n",
      " Saving model ...\n",
      "Epoch: 113 \tTraining Loss: 0.468669 \t\n",
      "Epoch: 114 \tTraining Loss: 0.468748 \t\n",
      "Epoch: 115 \tTraining Loss: 0.467180 \t\n",
      "Epoch: 116 \tTraining Loss: 0.469961 \t\n",
      "Epoch: 117 \tTraining Loss: 0.465532 \t\n",
      "Epoch: 118 \tTraining Loss: 0.468508 \t\n",
      "Epoch: 119 \tTraining Loss: 0.458979 \t\n",
      " Saving model ...\n",
      "Epoch: 120 \tTraining Loss: 0.462533 \t\n",
      "Epoch: 121 \tTraining Loss: 0.464820 \t\n",
      "Epoch: 122 \tTraining Loss: 0.459144 \t\n",
      "Epoch: 123 \tTraining Loss: 0.464019 \t\n",
      "Epoch: 124 \tTraining Loss: 0.462363 \t\n",
      "Epoch: 125 \tTraining Loss: 0.460780 \t\n",
      "Epoch: 126 \tTraining Loss: 0.455938 \t\n",
      " Saving model ...\n",
      "Epoch: 127 \tTraining Loss: 0.453970 \t\n",
      " Saving model ...\n",
      "Epoch: 128 \tTraining Loss: 0.464956 \t\n",
      "Epoch: 129 \tTraining Loss: 0.464466 \t\n",
      "Epoch: 130 \tTraining Loss: 0.461264 \t\n",
      "Epoch: 131 \tTraining Loss: 0.461187 \t\n",
      "Epoch: 132 \tTraining Loss: 0.459486 \t\n",
      "Epoch: 133 \tTraining Loss: 0.455609 \t\n",
      "Epoch: 134 \tTraining Loss: 0.458821 \t\n",
      "Epoch: 135 \tTraining Loss: 0.453136 \t\n",
      " Saving model ...\n",
      "Epoch: 136 \tTraining Loss: 0.451566 \t\n",
      " Saving model ...\n",
      "Epoch: 137 \tTraining Loss: 0.455148 \t\n",
      "Epoch: 138 \tTraining Loss: 0.455683 \t\n",
      "Epoch: 139 \tTraining Loss: 0.459229 \t\n",
      "Epoch: 140 \tTraining Loss: 0.447285 \t\n",
      " Saving model ...\n",
      "Epoch: 141 \tTraining Loss: 0.454610 \t\n",
      "Epoch: 142 \tTraining Loss: 0.455472 \t\n",
      "Epoch: 143 \tTraining Loss: 0.457178 \t\n",
      "Epoch: 144 \tTraining Loss: 0.452929 \t\n",
      "Epoch: 145 \tTraining Loss: 0.447608 \t\n",
      "Epoch: 146 \tTraining Loss: 0.450168 \t\n",
      "Epoch: 147 \tTraining Loss: 0.449810 \t\n",
      "Epoch: 148 \tTraining Loss: 0.446855 \t\n",
      " Saving model ...\n",
      "Epoch: 149 \tTraining Loss: 0.450226 \t\n",
      "Epoch: 150 \tTraining Loss: 0.444945 \t\n",
      " Saving model ...\n",
      "Epoch: 151 \tTraining Loss: 0.445620 \t\n",
      "Epoch: 152 \tTraining Loss: 0.448203 \t\n",
      "Epoch: 153 \tTraining Loss: 0.446537 \t\n",
      "Epoch: 154 \tTraining Loss: 0.445857 \t\n",
      "Epoch: 155 \tTraining Loss: 0.443886 \t\n",
      " Saving model ...\n",
      "Epoch: 156 \tTraining Loss: 0.444830 \t\n",
      "Epoch: 157 \tTraining Loss: 0.446946 \t\n",
      "Epoch: 158 \tTraining Loss: 0.441409 \t\n",
      " Saving model ...\n",
      "Epoch: 159 \tTraining Loss: 0.443090 \t\n",
      "Epoch: 160 \tTraining Loss: 0.440517 \t\n",
      " Saving model ...\n",
      "Epoch: 161 \tTraining Loss: 0.439185 \t\n",
      " Saving model ...\n",
      "Epoch: 162 \tTraining Loss: 0.440911 \t\n",
      "Epoch: 163 \tTraining Loss: 0.449772 \t\n",
      "Epoch: 164 \tTraining Loss: 0.445851 \t\n",
      "Epoch: 165 \tTraining Loss: 0.444535 \t\n",
      "Epoch: 166 \tTraining Loss: 0.442533 \t\n",
      "Epoch: 167 \tTraining Loss: 0.434205 \t\n",
      " Saving model ...\n",
      "Epoch: 168 \tTraining Loss: 0.442053 \t\n",
      "Epoch: 169 \tTraining Loss: 0.437184 \t\n",
      "Epoch: 170 \tTraining Loss: 0.439058 \t\n",
      "Epoch: 171 \tTraining Loss: 0.445459 \t\n",
      "Epoch: 172 \tTraining Loss: 0.435187 \t\n",
      "Epoch: 173 \tTraining Loss: 0.439697 \t\n",
      "Epoch: 174 \tTraining Loss: 0.444363 \t\n",
      "Epoch: 175 \tTraining Loss: 0.433707 \t\n",
      " Saving model ...\n",
      "Epoch: 176 \tTraining Loss: 0.434732 \t\n",
      "Epoch: 177 \tTraining Loss: 0.434336 \t\n",
      "Epoch: 178 \tTraining Loss: 0.441727 \t\n",
      "Epoch: 179 \tTraining Loss: 0.435016 \t\n",
      "Epoch: 180 \tTraining Loss: 0.435674 \t\n",
      "Epoch: 181 \tTraining Loss: 0.439250 \t\n"
     ]
    },
    {
     "name": "stdout",
     "output_type": "stream",
     "text": [
      "Epoch: 182 \tTraining Loss: 0.434851 \t\n",
      "Epoch: 183 \tTraining Loss: 0.432646 \t\n",
      " Saving model ...\n",
      "Epoch: 184 \tTraining Loss: 0.432056 \t\n",
      " Saving model ...\n",
      "Epoch: 185 \tTraining Loss: 0.438043 \t\n",
      "Epoch: 186 \tTraining Loss: 0.432141 \t\n",
      "Epoch: 187 \tTraining Loss: 0.433842 \t\n",
      "Epoch: 188 \tTraining Loss: 0.428367 \t\n",
      " Saving model ...\n",
      "Epoch: 189 \tTraining Loss: 0.431184 \t\n",
      "Epoch: 190 \tTraining Loss: 0.431134 \t\n",
      "Epoch: 191 \tTraining Loss: 0.433312 \t\n",
      "Epoch: 192 \tTraining Loss: 0.428626 \t\n",
      "Epoch: 193 \tTraining Loss: 0.428300 \t\n",
      " Saving model ...\n",
      "Epoch: 194 \tTraining Loss: 0.431607 \t\n",
      "Epoch: 195 \tTraining Loss: 0.436627 \t\n",
      "Epoch: 196 \tTraining Loss: 0.437500 \t\n",
      "Epoch: 197 \tTraining Loss: 0.431159 \t\n",
      "Epoch: 198 \tTraining Loss: 0.426169 \t\n",
      " Saving model ...\n",
      "Epoch: 199 \tTraining Loss: 0.428919 \t\n",
      "Epoch: 200 \tTraining Loss: 0.429793 \t\n"
     ]
    }
   ],
   "source": [
    "# number of epochs to train the model\n",
    "n_epochs = 200\n",
    "\n",
    "#valid_loss_min = np.Inf # track change in validation loss\n",
    "train_loss_min = np.Inf # track change in validation loss\n",
    "train_loss_list =[]\n",
    "valid_loss_list = []\n",
    "for epoch in range(1, n_epochs+1):\n",
    "\n",
    "    # keep track of training and validation loss\n",
    "    train_loss = 0.0\n",
    "    valid_loss = 0.0\n",
    "    \n",
    "    ###################\n",
    "    # train the model #\n",
    "    ###################\n",
    "    model.train()\n",
    "    for data, target in trainloader:\n",
    "        # move tensors to GPU if CUDA is available\n",
    "        if gpu_on:\n",
    "            data, target = data.cuda(), target.cuda()\n",
    "        # clear the gradients of all optimized variables\n",
    "        optimizer.zero_grad()\n",
    "        # forward pass: compute predicted outputs by passing inputs to the model\n",
    "        output = model(data)\n",
    "        # calculate the batch loss\n",
    "        loss = criterion(output, target)\n",
    "        # backward pass: compute gradient of the loss with respect to model parameters\n",
    "        loss.backward()\n",
    "        # perform a single optimization step (parameter update)\n",
    "        optimizer.step()\n",
    "        # update training loss\n",
    "        train_loss += loss.item()*data.size(0)\n",
    "        \n",
    "        \n",
    "     \n",
    "    \n",
    "    # calculate average losses\n",
    "    train_loss = train_loss/len(trainloader.sampler)\n",
    "\n",
    "    train_loss_list.append(train_loss)\n",
    "        \n",
    "\n",
    "    print('Epoch: {} \\tTraining Loss: {:.6f} \\t'.format(\n",
    "        epoch, train_loss))\n",
    "    if train_loss <= train_loss_min:\n",
    "        train_loss_min=train_loss\n",
    "        print(' Saving model ...')\n",
    "        torch.save(model.state_dict(), 'model_cifar10.pt')\n",
    "    "
   ]
  },
  {
   "cell_type": "markdown",
   "metadata": {},
   "source": [
    "Plot the training loss (and validation loss/accuracy, if recorded)."
   ]
  },
  {
   "cell_type": "code",
   "execution_count": 63,
   "metadata": {},
   "outputs": [],
   "source": [
    "#model.load_state_dict(torch.load('model_cifar.pt'))"
   ]
  },
  {
   "cell_type": "code",
   "execution_count": 64,
   "metadata": {},
   "outputs": [
    {
     "data": {
      "text/plain": [
       "200"
      ]
     },
     "execution_count": 64,
     "metadata": {},
     "output_type": "execute_result"
    }
   ],
   "source": [
    "len(train_loss_list)\n"
   ]
  },
  {
   "cell_type": "code",
   "execution_count": 65,
   "metadata": {},
   "outputs": [
    {
     "data": {
      "image/png": "[encoded data removed]",
      "text/plain": [
       "<Figure size 640x480 with 1 Axes>"
      ]
     },
     "metadata": {},
     "output_type": "display_data"
    }
   ],
   "source": [
    "epochs = range(1,n_epochs+1)\n",
    "plt.plot(epochs, train_loss_list, 'g', label='Training loss')\n",
    "plt.title('Evaluation')\n",
    "plt.xlabel('Epochs')\n",
    "plt.ylabel('Loss')\n",
    "plt.legend()\n",
    "plt.show()"
   ]
  },
  {
   "cell_type": "markdown",
   "metadata": {},
   "source": [
    "## Testing your model\n",
    "Using the previously created `DataLoader` for the test set, compute the percentage of correct predictions using the highest probability prediction. \n",
    "\n",
    "If your accuracy is over 70%, great work! \n",
    "This is a hard task to exceed 70% on.\n",
    "\n",
    "If your accuracy is under 45%, you'll need to make improvements.\n",
    "Go back and check your model architecture, loss function, and optimizer to make sure they're appropriate for an image classification task."
   ]
  },
  {
   "cell_type": "code",
   "execution_count": 66,
   "metadata": {},
   "outputs": [
    {
     "name": "stdout",
     "output_type": "stream",
     "text": [
      "Accuracy: 84 %\n"
     ]
    }
   ],
   "source": [
    "#testing \n",
    "\n",
    "total = 0\n",
    "correct = 0\n",
    "model.eval() # out our model in evaluation modewith torch.no_grad():\n",
    "for data, target in testloader:\n",
    "    if gpu_on:\n",
    "        data, target = data.cuda(), target.cuda()\n",
    "    outputs = model(data)\n",
    "    _, predicted = torch.max(outputs.data, 1)\n",
    "    total += target.size(0)\n",
    "    correct += (predicted == target).sum().item()\n",
    "print('Accuracy: %d %%' % (100 * correct / total))"
   ]
  },
  {
   "cell_type": "markdown",
   "metadata": {},
   "source": [
    "## Saving your model\n",
    "Using `torch.save`, save your model for future loading."
   ]
  },
  {
   "cell_type": "code",
   "execution_count": 67,
   "metadata": {},
   "outputs": [],
   "source": [
    "checkpoint = {'model': model,\n",
    "            'state_dict': model.state_dict(),\n",
    "            'optimizer' : optimizer.state_dict()}\n",
    "torch.save(checkpoint, 'checkpoint.pth')"
   ]
  },
  {
   "cell_type": "markdown",
   "metadata": {},
   "source": [
    "## Make a Recommendation\n",
    "\n",
    "Based on your evaluation, what is your recommendation on whether to build or buy? Explain your reasoning below.\n",
    "\n",
    "Some things to consider as you formulate your recommendation:\n",
    "* How does your model compare to Detectocorp's model?\n",
    "* How does it compare to the far more advanced solutions in the literature? \n",
    "* What did you do to get the accuracy you achieved? \n",
    "* Is it necessary to improve this accuracy? If so, what sort of work would be involved in improving it?"
   ]
  },
  {
   "cell_type": "markdown",
   "metadata": {},
   "source": [
    "### Recomendations\n",
    ".. I can recomend my solution for a mobile case, because it need few parameters compared to the first one [78.9% Accuracy | Deep Belief Networks; Krizhevsky, 2010].\n",
    "However for an accurate app I recommend the follow: [99.0% Accuracy | GPipe; Huang et al., 2018].\n",
    "\n",
    ".. My solution has a reasonable accuracy, not the best, but it has less number of parameters than the best of literature.\n",
    "I believe the application of batch normalization help on this result.\n",
    "\n",
    ".. It is necessary a improvement of the accuracy depending on the infrastructure the user has available, CPU or GPU.\n",
    "\n",
    ".. A more deep net is needed. More convolutional layers and Hidden layers.\n",
    "\n",
    "\n",
    "\n"
   ]
  },
  {
   "cell_type": "markdown",
   "metadata": {},
   "source": [
    "## Submit Your Project\n",
    "\n",
    "When you are finished editing the notebook and are ready to turn it in, simply click the **SUBMIT PROJECT** button in the lower right.\n",
    "\n",
    "Once you submit your project, we'll review your work and give you feedback if there's anything that you need to work on. If you'd like to see the exact points that your reviewer will check for when looking at your work, you can have a look over the project [rubric](https://review.udacity.com/#!/rubrics/3077/view)."
   ]
  },
  {
   "cell_type": "code",
   "execution_count": 69,
   "metadata": {},
   "outputs": [
    {
     "name": "stdout",
     "output_type": "stream",
     "text": [
      "[NbConvertApp] Converting notebook /dccstor/6195/users/mmacedo/project4_deeplearning/CIFAR-10_Image_Classifier-STARTER.ipynb to html\n",
      "[NbConvertApp] Writing 748886 bytes to /dccstor/6195/users/mmacedo/project4_deeplearning/CIFAR-10_Image_Classifier-STARTER.html\n"
     ]
    }
   ],
   "source": [
    "!jupyter nbconvert --to html /dccstor/6195/users/mmacedo/project4_deeplearning/CIFAR-10_Image_Classifier-STARTER.ipynb"
   ]
  },
  {
   "cell_type": "code",
   "execution_count": null,
   "metadata": {},
   "outputs": [],
   "source": []
  }
 ],
 "metadata": {
  "kernelspec": {
   "display_name": "Python 3 (ipykernel)",
   "language": "python",
   "name": "python3"
  },
  "language_info": {
   "codemirror_mode": {
    "name": "ipython",
    "version": 3
   },
   "file_extension": ".py",
   "mimetype": "text/x-python",
   "name": "python",
   "nbconvert_exporter": "python",
   "pygments_lexer": "ipython3",
   "version": "3.9.1"
  }
 },
 "nbformat": 4,
 "nbformat_minor": 4
}
